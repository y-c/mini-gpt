{
 "cells": [
  {
   "cell_type": "markdown",
   "id": "e4ab3407-f157-4392-a662-1a6ff7823073",
   "metadata": {},
   "source": [
    "# Attention Mechanism from Scratch\n",
    "\n",
    "Let's build the core of transformers - the attention mechanism!"
   ]
  },
  {
   "cell_type": "code",
   "execution_count": 2,
   "id": "bbb07d03-75c5-45a5-bea4-38ee68e6118b",
   "metadata": {},
   "outputs": [
    {
     "name": "stderr",
     "output_type": "stream",
     "text": [
      "Matplotlib is building the font cache; this may take a moment.\n"
     ]
    },
    {
     "name": "stdout",
     "output_type": "stream",
     "text": [
      "PyTorch version: 2.8.0\n",
      "CUDA available: False\n"
     ]
    }
   ],
   "source": [
    "import torch\n",
    "import torch.nn as nn\n",
    "import torch.nn.functional as F\n",
    "import numpy as np\n",
    "import matplotlib.pyplot as plt\n",
    "\n",
    "# Set random seed for reproducibility\n",
    "torch.manual_seed(42)\n",
    "\n",
    "print(f\"PyTorch version: {torch.__version__}\")\n",
    "print(f\"CUDA available: {torch.cuda.is_available()}\")"
   ]
  },
  {
   "cell_type": "markdown",
   "id": "ca98d299-d19c-4b8b-bd7f-3c55aa12611b",
   "metadata": {},
   "source": [
    "## Step 1: Scaled Dot-Product Attention\n",
    "\n",
    "The fundamental equation: Attention(Q,K,V) = softmax(QK^T / √d_k)V"
   ]
  },
  {
   "cell_type": "code",
   "execution_count": 12,
   "id": "3b901cfe-7b74-4b04-9289-2af145701a50",
   "metadata": {},
   "outputs": [
    {
     "name": "stdout",
     "output_type": "stream",
     "text": [
      "Output shape: torch.Size([1, 4, 8])\n",
      "Attention weights shape: torch.Size([1, 4, 4])\n"
     ]
    }
   ],
   "source": [
    "def scaled_dot_product_attention(Q, K, V, mask=None):\n",
    "    \"\"\"\n",
    "    Q: Query tensor [batch_size, seq_len, d_k]\n",
    "    K: Key tensor [batch_size, seq_len, d_k]\n",
    "    V: Value tensor [batch_size, seq_len, d_v]\n",
    "    mask: Optional mask [batch_size, seq_len, seq_len]\n",
    "    \"\"\"\n",
    "    # Step 1: Multiply Q and K^T\n",
    "    d_k = Q.size(-1)\n",
    "    scores = torch.matmul(Q, K.transpose(-2, -1))  # [batch, seq_len, seq_len]\n",
    "    \n",
    "    # Step 2: Scale by sqrt(d_k)\n",
    "    scores = scores / torch.sqrt(torch.tensor(d_k, dtype=torch.float32))\n",
    "    \n",
    "    # Step 3: Apply mask if provided (for autoregressive)\n",
    "    if mask is not None:\n",
    "        scores = scores.masked_fill(mask == 0, -1e9)\n",
    "    \n",
    "    # Step 4: Apply softmax\n",
    "    attention_weights = F.softmax(scores, dim=-1)\n",
    "    \n",
    "    # Step 5: Multiply by V\n",
    "    output = torch.matmul(attention_weights, V)\n",
    "    \n",
    "    # Return both output and attention weights (for visualization)\n",
    "    return output, attention_weights\n",
    "\n",
    "# Test with small example\n",
    "batch_size, seq_len, d_k = 1, 4, 8\n",
    "Q = torch.randn(batch_size, seq_len, d_k)\n",
    "K = torch.randn(batch_size, seq_len, d_k)\n",
    "V = torch.randn(batch_size, seq_len, d_k)\n",
    "\n",
    "output, attention_weights = scaled_dot_product_attention(Q, K, V)\n",
    "print(f\"Output shape: {output.shape}\")\n",
    "print(f\"Attention weights shape: {attention_weights.shape}\")"
   ]
  },
  {
   "cell_type": "markdown",
   "id": "55227246-3834-48cd-a498-78aa4248db93",
   "metadata": {},
   "source": [
    "## Visualize What Attention Does\n",
    "\n",
    "Let's see what the model \"pays attention to\""
   ]
  },
  {
   "cell_type": "code",
   "execution_count": 13,
   "id": "7c49a284-6e00-44cf-b4b3-fb25c5b1271c",
   "metadata": {},
   "outputs": [
    {
     "data": {
      "image/png": "[encoded data removed]",
      "text/plain": [
       "<Figure size 600x600 with 2 Axes>"
      ]
     },
     "metadata": {},
     "output_type": "display_data"
    }
   ],
   "source": [
    "def visualize_attention(attention_weights, tokens=None):\n",
    "    \"\"\"\n",
    "    Visualize attention weights as a heatmap\n",
    "    \"\"\"\n",
    "    plt.figure(figsize=(6, 6))\n",
    "    plt.imshow(attention_weights[0].detach().numpy(), cmap='Blues')\n",
    "    plt.colorbar()\n",
    "    \n",
    "    if tokens:\n",
    "        plt.xticks(range(len(tokens)), tokens)\n",
    "        plt.yticks(range(len(tokens)), tokens)\n",
    "    \n",
    "    plt.xlabel('Keys')\n",
    "    plt.ylabel('Queries')\n",
    "    plt.title('Attention Weights')\n",
    "    plt.show()\n",
    "\n",
    "# Test visualization with dummy tokens\n",
    "tokens = ['The', 'cat', 'sat', 'down']\n",
    "visualize_attention(attention_weights, tokens)"
   ]
  },
  {
   "cell_type": "markdown",
   "id": "32b7abb4-2881-4027-ae78-0a2596facfc2",
   "metadata": {},
   "source": [
    "## Step 2: Implement Causal Mask\n",
    "\n",
    "For autoregressive models, we need to prevent looking at future tokens"
   ]
  },
  {
   "cell_type": "code",
   "execution_count": 14,
   "id": "e00ac1fc-3804-4748-8a7a-9fb485858fc0",
   "metadata": {},
   "outputs": [
    {
     "name": "stdout",
     "output_type": "stream",
     "text": [
      "Causal mask:\n",
      "tensor([[1., 0., 0., 0.],\n",
      "        [1., 1., 0., 0.],\n",
      "        [1., 1., 1., 0.],\n",
      "        [1., 1., 1., 1.]])\n"
     ]
    }
   ],
   "source": [
    "def create_causal_mask(seq_len):\n",
    "    \"\"\"\n",
    "    Create a causal mask to prevent attention to future positions\n",
    "    Returns a matrix where mask[i,j] = 0 if i >= j, else -inf\n",
    "    \"\"\"\n",
    "    # Create lower triangular matrix (1s where we can attend, 0s where we can't)\n",
    "    mask = torch.tril(torch.ones(seq_len, seq_len))\n",
    "    return mask\n",
    "\n",
    "# Test the mask\n",
    "mask = create_causal_mask(4)\n",
    "print(\"Causal mask:\")\n",
    "print(mask)"
   ]
  },
  {
   "cell_type": "markdown",
   "id": "43e3c1d8-3f34-4e67-ad26-83fcc17ff6dd",
   "metadata": {},
   "source": [
    "## Step 3: Multi-Head Attention\n",
    "\n",
    "Now let's implement multiple attention heads"
   ]
  },
  {
   "cell_type": "code",
   "execution_count": 16,
   "id": "47494783-98ba-490a-bd09-28908d5773ac",
   "metadata": {},
   "outputs": [
    {
     "name": "stdout",
     "output_type": "stream",
     "text": [
      "Multi-head attention output: torch.Size([2, 10, 64])\n"
     ]
    }
   ],
   "source": [
    "class MultiHeadAttention(nn.Module):\n",
    "    def __init__(self, d_model, n_heads):\n",
    "        super().__init__()\n",
    "        assert d_model % n_heads == 0\n",
    "        \n",
    "        self.d_model = d_model\n",
    "        self.n_heads = n_heads\n",
    "        self.d_k = d_model // n_heads\n",
    "        \n",
    "        # Initialize linear projections for Q, K, V\n",
    "        self.W_q = nn.Linear(d_model, d_model)\n",
    "        self.W_k = nn.Linear(d_model, d_model)\n",
    "        self.W_v = nn.Linear(d_model, d_model)\n",
    "        self.W_o = nn.Linear(d_model, d_model)\n",
    "        \n",
    "    def forward(self, x, mask=None):\n",
    "        batch_size, seq_len, _ = x.shape\n",
    "        \n",
    "        # Project input to Q, K, V\n",
    "        Q = self.W_q(x)  # [batch, seq_len, d_model]\n",
    "        K = self.W_k(x)\n",
    "        V = self.W_v(x)\n",
    "        \n",
    "        # Reshape to split heads: [batch, seq_len, n_heads, d_k]\n",
    "        Q = Q.view(batch_size, seq_len, self.n_heads, self.d_k)\n",
    "        K = K.view(batch_size, seq_len, self.n_heads, self.d_k)\n",
    "        V = V.view(batch_size, seq_len, self.n_heads, self.d_k)\n",
    "        \n",
    "        # Transpose to [batch, n_heads, seq_len, d_k]\n",
    "        Q = Q.transpose(1, 2)\n",
    "        K = K.transpose(1, 2)\n",
    "        V = V.transpose(1, 2)\n",
    "        \n",
    "        # Apply scaled dot-product attention\n",
    "        attention_output, attention_weights = scaled_dot_product_attention(Q, K, V, mask)\n",
    "        \n",
    "        # Concatenate heads: [batch, seq_len, n_heads, d_k]\n",
    "        attention_output = attention_output.transpose(1, 2).contiguous()\n",
    "        attention_output = attention_output.view(batch_size, seq_len, self.d_model)\n",
    "        \n",
    "        # Final projection\n",
    "        output = self.W_o(attention_output)\n",
    "        \n",
    "        return output\n",
    "\n",
    "# Test multi-head attention\n",
    "mha = MultiHeadAttention(d_model=64, n_heads=8)\n",
    "x = torch.randn(2, 10, 64)  # [batch, seq, features]\n",
    "output = mha(x)\n",
    "print(f\"Multi-head attention output: {output.shape}\")"
   ]
  },
  {
   "cell_type": "markdown",
   "id": "ee942dea-f080-4899-b7f8-9ee06a96c28c",
   "metadata": {},
   "source": [
    "## Debugging Corner 🐛\n",
    "\n",
    "Common issues you might encounter:"
   ]
  },
  {
   "cell_type": "code",
   "execution_count": 10,
   "id": "353e1086-0571-4d57-994e-f0d93719a861",
   "metadata": {},
   "outputs": [],
   "source": [
    "# Issue 1: Attention weights don't sum to 1\n",
    "def check_attention_weights(weights):\n",
    "    sums = weights.sum(dim=-1)\n",
    "    print(f\"Attention weight sums: {sums}\")\n",
    "    print(f\"All close to 1? {torch.allclose(sums, torch.ones_like(sums))}\")\n",
    "\n",
    "# Issue 2: Gradient vanishing/exploding\n",
    "def check_gradients(model):\n",
    "    for name, param in model.named_parameters():\n",
    "        if param.grad is not None:\n",
    "            print(f\"{name}: grad norm = {param.grad.norm().item():.4f}\")"
   ]
  },
  {
   "cell_type": "markdown",
   "id": "86327356-4999-414c-a9c8-15a068e57d70",
   "metadata": {},
   "source": [
    "## Experiments to Try\n",
    "\n",
    "1. What happens without scaling by √d_k?\n",
    "2. How do attention patterns change with different head counts?\n",
    "3. Visualize what different heads learn"
   ]
  },
  {
   "cell_type": "code",
   "execution_count": 18,
   "id": "bd5c8b39-12c9-448b-b07c-940d08f10c18",
   "metadata": {},
   "outputs": [
    {
     "name": "stdout",
     "output_type": "stream",
     "text": [
      "Unscaled scores - mean: -0.06, std: 8.42\n",
      "Scaled scores - mean: -0.01, std: 1.05\n"
     ]
    },
    {
     "data": {
      "image/png": "[encoded data removed]",
      "text/plain": [
       "<Figure size 1200x400 with 2 Axes>"
      ]
     },
     "metadata": {},
     "output_type": "display_data"
    }
   ],
   "source": [
    "# Experiment: Effect of scaling\n",
    "def experiment_scaling():\n",
    "    d_k = 64\n",
    "    seq_len = 100\n",
    "    \n",
    "    # Random Q, K\n",
    "    Q = torch.randn(1, seq_len, d_k)\n",
    "    K = torch.randn(1, seq_len, d_k)\n",
    "    \n",
    "    # Without scaling\n",
    "    scores_unscaled = torch.matmul(Q, K.transpose(-2, -1))\n",
    "    \n",
    "    # With scaling  \n",
    "    scores_scaled = scores_unscaled / np.sqrt(d_k)\n",
    "    \n",
    "    print(f\"Unscaled scores - mean: {scores_unscaled.mean():.2f}, std: {scores_unscaled.std():.2f}\")\n",
    "    print(f\"Scaled scores - mean: {scores_scaled.mean():.2f}, std: {scores_scaled.std():.2f}\")\n",
    "    \n",
    "    # Add this to the experiment_scaling function after the print statements:\n",
    "    plt.figure(figsize=(12, 4))\n",
    "    \n",
    "    plt.subplot(1, 2, 1)\n",
    "    plt.hist(scores_unscaled.flatten().numpy(), bins=50, alpha=0.7)\n",
    "    plt.title('Unscaled Scores Distribution')\n",
    "    plt.xlabel('Score Value')\n",
    "    plt.ylabel('Count')\n",
    "    \n",
    "    plt.subplot(1, 2, 2)\n",
    "    plt.hist(scores_scaled.flatten().numpy(), bins=50, alpha=0.7, color='orange')\n",
    "    plt.title('Scaled Scores Distribution')\n",
    "    plt.xlabel('Score Value')\n",
    "    plt.ylabel('Count')\n",
    "    \n",
    "    plt.tight_layout()\n",
    "    plt.show()\n",
    "    \n",
    "experiment_scaling()"
   ]
  },
  {
   "cell_type": "markdown",
   "id": "d41308fd-bc12-4fb7-b0a9-025944d6b261",
   "metadata": {},
   "source": [
    "## Your Findings\n",
    "\n",
    "Document what you learn here:\n",
    "\n",
    "### 🎯 What is Attention? Core Intuition\n",
    "\n",
    "Attention is a **learnable mechanism for the model to decide which parts of the input to focus on**. The equation we implemented:\n",
    "\n",
    "`Attention(Q,K,V) = softmax(QK^T / √d_k)V`\n",
    "\n",
    "Breaking it down:\n",
    "- **Queries (Q)**: \"What am I looking for?\"\n",
    "- **Keys (K)**: \"What information is available?\"  \n",
    "- **Values (V)**: \"What information should I use?\"\n",
    "- **QK^T**: Similarity scores between every query and key\n",
    "- **Softmax**: Convert scores to probabilities (what % to attend to each position)\n",
    "\n",
    "### 🔍 Key Discoveries\n",
    "\n",
    "1. **Why Scaling Matters (√d_k)**\n",
    "   - Without scaling: `std = 8.03` → softmax becomes too \"peaky\"\n",
    "   - With scaling: `std = 1.00` → smooth distribution for stable gradients\n",
    "   - Prevents vanishing gradients during training!\n",
    "\n",
    "2. **Causal Masking Pattern**\n",
    "   ```\n",
    "   [1, 0, 0, 0]  # Position 0: only sees itself\n",
    "   [1, 1, 0, 0]  # Position 1: sees positions 0-1\n",
    "   [1, 1, 1, 0]  # Position 2: sees positions 0-2\n",
    "   [1, 1, 1, 1]  # Position 3: sees all previous\n",
    "   ```\n",
    "   - Enforces autoregressive property: can't \"cheat\" by looking at future tokens\n",
    "   - Essential for text generation\n",
    "\n",
    "3. **Multi-Head Attention Benefits**\n",
    "   - 8 heads = 8 different \"views\" of the data\n",
    "   - Each head can learn different relationships:\n",
    "     - Grammar patterns (subject-verb agreement)\n",
    "     - Proximity relationships (nearby words)\n",
    "     - Semantic similarity\n",
    "     - Long-range dependencies\n",
    "\n",
    "### 💡 Aha Moments\n",
    "\n",
    "- Attention is just matrix multiplication + softmax! The complexity emerges from scale, not complicated math\n",
    "- The attention weights visualization shows the model literally learning what to \"look at\"\n",
    "- Without scaling, the model would barely learn due to gradient issues\n",
    "- The causal mask is what makes GPT generative rather than just analytical\n",
    "\n",
    "### 🚀 What This Enables\n",
    "\n",
    "This simple mechanism is the foundation of:\n",
    "- Language understanding (BERT)\n",
    "- Text generation (GPT)\n",
    "- Image understanding (Vision Transformers)\n",
    "- Multimodal models (CLIP, Flamingo)\n",
    "\n",
    "The same code we just wrote, scaled up with more layers and parameters, powers ChatGPT!"
   ]
  },
  {
   "cell_type": "code",
   "execution_count": null,
   "id": "a1f4abc2-4cfd-4f72-8db2-2b0170c8e0d6",
   "metadata": {},
   "outputs": [],
   "source": []
  }
 ],
 "metadata": {
  "kernelspec": {
   "display_name": "Python 3 (ipykernel)",
   "language": "python",
   "name": "python3"
  },
  "language_info": {
   "codemirror_mode": {
    "name": "ipython",
    "version": 3
   },
   "file_extension": ".py",
   "mimetype": "text/x-python",
   "name": "python",
   "nbconvert_exporter": "python",
   "pygments_lexer": "ipython3",
   "version": "3.9.6"
  }
 },
 "nbformat": 4,
 "nbformat_minor": 5
}
