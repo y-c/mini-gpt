{
 "cells": [
  {
   "cell_type": "markdown",
   "id": "30abea0b-b12f-44ad-b107-d86c4968117e",
   "metadata": {},
   "source": [
    "# Transformer Block\n",
    "\n",
    "Now we'll combine attention with the other key components to build a complete transformer block."
   ]
  },
  {
   "cell_type": "code",
   "execution_count": 1,
   "id": "7f486de4-94b3-40e8-93ad-e8d6ea692d5c",
   "metadata": {},
   "outputs": [],
   "source": [
    "import torch\n",
    "import torch.nn as nn\n",
    "import torch.nn.functional as F\n",
    "import numpy as np\n",
    "import matplotlib.pyplot as plt\n",
    "\n",
    "# Import our attention implementation\n",
    "import sys\n",
    "sys.path.append('../src')\n",
    "\n",
    "# For now, let's copy our attention code here\n",
    "def scaled_dot_product_attention(Q, K, V, mask=None):\n",
    "    d_k = Q.size(-1)\n",
    "    scores = torch.matmul(Q, K.transpose(-2, -1))\n",
    "    scores = scores / torch.sqrt(torch.tensor(d_k, dtype=torch.float32))\n",
    "    \n",
    "    if mask is not None:\n",
    "        scores = scores.masked_fill(mask == 0, -1e9)\n",
    "    \n",
    "    attention_weights = F.softmax(scores, dim=-1)\n",
    "    output = torch.matmul(attention_weights, V)\n",
    "    \n",
    "    return output, attention_weights\n",
    "\n",
    "class MultiHeadAttention(nn.Module):\n",
    "    def __init__(self, d_model, n_heads):\n",
    "        super().__init__()\n",
    "        assert d_model % n_heads == 0\n",
    "        \n",
    "        self.d_model = d_model\n",
    "        self.n_heads = n_heads\n",
    "        self.d_k = d_model // n_heads\n",
    "        \n",
    "        self.W_q = nn.Linear(d_model, d_model)\n",
    "        self.W_k = nn.Linear(d_model, d_model)\n",
    "        self.W_v = nn.Linear(d_model, d_model)\n",
    "        self.W_o = nn.Linear(d_model, d_model)\n",
    "        \n",
    "    def forward(self, x, mask=None):\n",
    "        batch_size, seq_len, _ = x.shape\n",
    "        \n",
    "        Q = self.W_q(x)\n",
    "        K = self.W_k(x)\n",
    "        V = self.W_v(x)\n",
    "        \n",
    "        Q = Q.view(batch_size, seq_len, self.n_heads, self.d_k).transpose(1, 2)\n",
    "        K = K.view(batch_size, seq_len, self.n_heads, self.d_k).transpose(1, 2)\n",
    "        V = V.view(batch_size, seq_len, self.n_heads, self.d_k).transpose(1, 2)\n",
    "        \n",
    "        attention_output, attention_weights = scaled_dot_product_attention(Q, K, V, mask)\n",
    "        \n",
    "        attention_output = attention_output.transpose(1, 2).contiguous()\n",
    "        attention_output = attention_output.view(batch_size, seq_len, self.d_model)\n",
    "        \n",
    "        output = self.W_o(attention_output)\n",
    "        \n",
    "        return output"
   ]
  },
  {
   "cell_type": "markdown",
   "id": "6313ecde-410e-41be-b779-9043cf20cab4",
   "metadata": {},
   "source": [
    "## Feed-Forward Network\n",
    "\n",
    "The second key component of a transformer block is the position-wise feed-forward network."
   ]
  },
  {
   "cell_type": "code",
   "execution_count": 2,
   "id": "89d98bc0-2321-4411-8ce0-8352674cfd0b",
   "metadata": {},
   "outputs": [
    {
     "name": "stdout",
     "output_type": "stream",
     "text": [
      "FeedForward output shape: torch.Size([2, 10, 64])\n"
     ]
    }
   ],
   "source": [
    "class FeedForward(nn.Module):\n",
    "    def __init__(self, d_model, d_ff=None, dropout=0.1):\n",
    "        super().__init__()\n",
    "        # Typically d_ff = 4 * d_model in transformers\n",
    "        if d_ff is None:\n",
    "            d_ff = 4 * d_model\n",
    "            \n",
    "        self.linear1 = nn.Linear(d_model, d_ff)\n",
    "        self.linear2 = nn.Linear(d_ff, d_model)\n",
    "        self.dropout = nn.Dropout(dropout)\n",
    "        \n",
    "    def forward(self, x):\n",
    "        # GPT uses GELU activation instead of ReLU\n",
    "        x = F.gelu(self.linear1(x))\n",
    "        x = self.dropout(x)\n",
    "        x = self.linear2(x)\n",
    "        return x\n",
    "\n",
    "# Test it\n",
    "ff = FeedForward(d_model=64)\n",
    "x = torch.randn(2, 10, 64)\n",
    "output = ff(x)\n",
    "print(f\"FeedForward output shape: {output.shape}\")"
   ]
  },
  {
   "cell_type": "markdown",
   "id": "a600c297-2fd8-4829-82d7-84bb913f5844",
   "metadata": {},
   "source": [
    "## Layer Normalization\n",
    "\n",
    "Layer normalization is crucial for stable training of deep transformers."
   ]
  },
  {
   "cell_type": "code",
   "execution_count": 3,
   "id": "40430142-e4b7-4a7d-9348-e88a330f6c1f",
   "metadata": {},
   "outputs": [
    {
     "name": "stdout",
     "output_type": "stream",
     "text": [
      "Before LayerNorm - mean: tensor([[ 0.2553,  0.3720,  0.0229, -1.3679]]), std: tensor([[1.0016, 9.0629, 0.0996, 7.0906]])\n",
      "After LayerNorm - mean: tensor([[ 0.0000e+00, -1.1176e-08,  1.8626e-09,  7.4506e-09]],\n",
      "       grad_fn=<MeanBackward1>), std: tensor([[1.0690, 1.0690, 1.0684, 1.0690]], grad_fn=<StdBackward0>)\n"
     ]
    }
   ],
   "source": [
    "# Let's understand what LayerNorm does\n",
    "def visualize_layer_norm():\n",
    "    # Create sample data with different scales\n",
    "    x = torch.randn(1, 4, 8) * torch.tensor([1, 10, 0.1, 5]).view(1, 4, 1)\n",
    "    \n",
    "    # Apply layer norm\n",
    "    ln = nn.LayerNorm(8)\n",
    "    x_norm = ln(x)\n",
    "    \n",
    "    print(f\"Before LayerNorm - mean: {x.mean(dim=-1)}, std: {x.std(dim=-1)}\")\n",
    "    print(f\"After LayerNorm - mean: {x_norm.mean(dim=-1)}, std: {x_norm.std(dim=-1)}\")\n",
    "    \n",
    "visualize_layer_norm()"
   ]
  },
  {
   "cell_type": "markdown",
   "id": "ce2ecba7-9664-47d7-a1db-81496f6b4575",
   "metadata": {},
   "source": [
    "## Complete Transformer Block\n",
    "\n",
    "Now let's combine everything with residual connections!"
   ]
  },
  {
   "cell_type": "code",
   "execution_count": 4,
   "id": "48284c19-6da5-40c9-821e-3d812ae77c06",
   "metadata": {},
   "outputs": [
    {
     "name": "stdout",
     "output_type": "stream",
     "text": [
      "Transformer block output shape: torch.Size([2, 10, 64])\n",
      "Output maintained input shape: True\n"
     ]
    }
   ],
   "source": [
    "class TransformerBlock(nn.Module):\n",
    "    def __init__(self, d_model, n_heads, d_ff=None, dropout=0.1):\n",
    "        super().__init__()\n",
    "        self.attention = MultiHeadAttention(d_model, n_heads)\n",
    "        self.feed_forward = FeedForward(d_model, d_ff, dropout)\n",
    "        self.ln1 = nn.LayerNorm(d_model)\n",
    "        self.ln2 = nn.LayerNorm(d_model)\n",
    "        self.dropout = nn.Dropout(dropout)\n",
    "        \n",
    "    def forward(self, x, mask=None):\n",
    "        # Self-attention with residual connection\n",
    "        # Note: GPT uses \"Pre-LN\" (normalize first)\n",
    "        attn_output = self.attention(self.ln1(x), mask)\n",
    "        x = x + self.dropout(attn_output)\n",
    "        \n",
    "        # Feed-forward with residual connection\n",
    "        ff_output = self.feed_forward(self.ln2(x))\n",
    "        x = x + self.dropout(ff_output)\n",
    "        \n",
    "        return x\n",
    "\n",
    "# Test the transformer block\n",
    "block = TransformerBlock(d_model=64, n_heads=8)\n",
    "x = torch.randn(2, 10, 64)\n",
    "output = block(x)\n",
    "print(f\"Transformer block output shape: {output.shape}\")\n",
    "print(f\"Output maintained input shape: {output.shape == x.shape}\")"
   ]
  },
  {
   "cell_type": "markdown",
   "id": "46f07ca9-f7a3-45ea-80f3-9139cca4d810",
   "metadata": {},
   "source": [
    "## Visualizing Residual Connections\n",
    "\n",
    "Let's see why residual connections are important:"
   ]
  },
  {
   "cell_type": "code",
   "execution_count": 5,
   "id": "4a42806b-de0c-4a81-80ea-650b2f158c95",
   "metadata": {},
   "outputs": [
    {
     "name": "stdout",
     "output_type": "stream",
     "text": [
      "Gradient norm without residuals: 0.000086\n",
      "Gradient norm with residuals: 211.578506\n",
      "Ratio: 2473709.67x stronger gradients!\n"
     ]
    }
   ],
   "source": [
    "def test_gradient_flow():\n",
    "    # Without residual connections\n",
    "    x = torch.randn(1, 10, 64, requires_grad=True)\n",
    "    \n",
    "    # Simulate deep network without residuals\n",
    "    y = x\n",
    "    for _ in range(10):\n",
    "        y = F.gelu(nn.Linear(64, 64)(y))\n",
    "    loss_without = y.sum()\n",
    "    loss_without.backward()\n",
    "    grad_without = x.grad.norm().item()\n",
    "    \n",
    "    # With residual connections\n",
    "    x = torch.randn(1, 10, 64, requires_grad=True)\n",
    "    y = x\n",
    "    for _ in range(10):\n",
    "        y = y + F.gelu(nn.Linear(64, 64)(y))  # Residual!\n",
    "    loss_with = y.sum()\n",
    "    loss_with.backward()\n",
    "    grad_with = x.grad.norm().item()\n",
    "    \n",
    "    print(f\"Gradient norm without residuals: {grad_without:.6f}\")\n",
    "    print(f\"Gradient norm with residuals: {grad_with:.6f}\")\n",
    "    print(f\"Ratio: {grad_with / (grad_without + 1e-8):.2f}x stronger gradients!\")\n",
    "\n",
    "test_gradient_flow()"
   ]
  },
  {
   "cell_type": "markdown",
   "id": "0acc3b28-0d40-4d82-925a-e078ba6d37e3",
   "metadata": {},
   "source": [
    "## Findings\n",
    "\n",
    "- **Residual connections are absolutely critical!** Without them, gradients vanish after just a few layers. Our experiment showed 2.5 million times stronger gradients with residuals.\n",
    "- **Layer normalization** keeps activations stable across different features\n",
    "- **Pre-LN architecture** (normalize before attention/FF) is more stable than Post-LN\n",
    "- **GELU activation** is smoother than ReLU and works better for transformers\n",
    "- The transformer block maintains input shape throughout - elegant design!"
   ]
  },
  {
   "cell_type": "code",
   "execution_count": null,
   "id": "c982a592-d9a4-4588-99b4-6ad694b01cda",
   "metadata": {},
   "outputs": [],
   "source": []
  }
 ],
 "metadata": {
  "kernelspec": {
   "display_name": "Python 3 (ipykernel)",
   "language": "python",
   "name": "python3"
  },
  "language_info": {
   "codemirror_mode": {
    "name": "ipython",
    "version": 3
   },
   "file_extension": ".py",
   "mimetype": "text/x-python",
   "name": "python",
   "nbconvert_exporter": "python",
   "pygments_lexer": "ipython3",
   "version": "3.9.6"
  }
 },
 "nbformat": 4,
 "nbformat_minor": 5
}
